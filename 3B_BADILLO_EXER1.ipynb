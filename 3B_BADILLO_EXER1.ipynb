{
  "nbformat": 4,
  "nbformat_minor": 0,
  "metadata": {
    "colab": {
      "provenance": [],
      "authorship_tag": "ABX9TyPAgW9rvyfWwVOwoLGKazHl",
      "include_colab_link": true
    },
    "kernelspec": {
      "name": "python3",
      "display_name": "Python 3"
    },
    "language_info": {
      "name": "python"
    }
  },
  "cells": [
    {
      "cell_type": "markdown",
      "metadata": {
        "id": "view-in-github",
        "colab_type": "text"
      },
      "source": [
        "<a href=\"https://colab.research.google.com/github/BadilloJerahmeel/CCST102-CS3B/blob/main/3B_BADILLO_EXER1.ipynb\" target=\"_parent\"><img src=\"https://colab.research.google.com/assets/colab-badge.svg\" alt=\"Open In Colab\"/></a>"
      ]
    },
    {
      "cell_type": "markdown",
      "source": [
        "# **Data processing:**"
      ],
      "metadata": {
        "id": "1DfAVLltDlIB"
      }
    },
    {
      "cell_type": "code",
      "source": [
        "import pandas as pd\n",
        "import numpy as np\n",
        "import matplotlib.pyplot as plt\n",
        "from sklearn.preprocessing import MinMaxScaler\n",
        "from sklearn.model_selection import train_test_split"
      ],
      "metadata": {
        "id": "SYyC0spfDmSu"
      },
      "execution_count": null,
      "outputs": []
    },
    {
      "cell_type": "markdown",
      "source": [
        "\n",
        "\n",
        "*   Loading dataset\n",
        "\n"
      ],
      "metadata": {
        "id": "RJvwXbuaELwy"
      }
    },
    {
      "cell_type": "code",
      "source": [
        "data = pd.read_csv('datasets_house_prices.csv')"
      ],
      "metadata": {
        "id": "8vgEoPzpEXmw"
      },
      "execution_count": null,
      "outputs": []
    },
    {
      "cell_type": "markdown",
      "source": [
        "\n",
        "\n",
        "*   Checking missing values and handling them appropriately\n",
        "\n"
      ],
      "metadata": {
        "id": "KXdHJiP5FE8k"
      }
    },
    {
      "cell_type": "code",
      "source": [
        "print(data.isnull().sum())\n",
        "\n",
        "data.fillna(data.median(), inplace=True)"
      ],
      "metadata": {
        "colab": {
          "base_uri": "https://localhost:8080/"
        },
        "id": "kT1Cx0q9FXzO",
        "outputId": "df3be52b-7826-4598-b0b8-7fa21756e1c3"
      },
      "execution_count": null,
      "outputs": [
        {
          "output_type": "stream",
          "name": "stdout",
          "text": [
            "Size (sqft)                      0\n",
            "Bedrooms                         0\n",
            "Age                              0\n",
            "Proximity to Downtown (miles)    0\n",
            "Price                            0\n",
            "dtype: int64\n"
          ]
        }
      ]
    },
    {
      "cell_type": "markdown",
      "source": [
        "*   Normalize the features to ensure they are on a similar scale"
      ],
      "metadata": {
        "id": "pd4CXxISFc8g"
      }
    },
    {
      "cell_type": "code",
      "source": [
        "scaler = MinMaxScaler()\n",
        "features = data[['Size (sqft)', 'Bedrooms', 'Age']]\n",
        "normalized_features = scaler.fit_transform(features)\n",
        "\n",
        "X = pd.DataFrame(normalized_features, columns=['Size (sqft)', 'Bedrooms', 'Age'])\n",
        "y = data['Price']\n"
      ],
      "metadata": {
        "id": "U4l5_aI3FmjH"
      },
      "execution_count": null,
      "outputs": []
    },
    {
      "cell_type": "markdown",
      "source": [
        "# **Model implementation:**"
      ],
      "metadata": {
        "id": "boRK9W3aHmTq"
      }
    },
    {
      "cell_type": "markdown",
      "source": [
        "*   Implementing the least squares method to compute model parameters"
      ],
      "metadata": {
        "id": "OYAoUxLiIcuS"
      }
    },
    {
      "cell_type": "code",
      "source": [
        "def compute_parameters(X, y):\n",
        "    X_b = np.c_[np.ones((X.shape[0], 1)), X]\n",
        "    theta = np.linalg.inv(X_b.T.dot(X_b)).dot(X_b.T).dot(y)\n",
        "    return theta"
      ],
      "metadata": {
        "id": "GCporFcDIc9k"
      },
      "execution_count": null,
      "outputs": []
    },
    {
      "cell_type": "markdown",
      "source": [
        "*  Predict functions"
      ],
      "metadata": {
        "id": "ejPBietCIpKY"
      }
    },
    {
      "cell_type": "code",
      "source": [
        "def predict(X, theta):\n",
        "    X_b = np.c_[np.ones((X.shape[0], 1)), X]\n",
        "    return X_b.dot(theta)"
      ],
      "metadata": {
        "id": "3pEcqxZ7Is0w"
      },
      "execution_count": null,
      "outputs": []
    },
    {
      "cell_type": "markdown",
      "source": [
        "# **Model training**"
      ],
      "metadata": {
        "id": "UHpTpf2BI8-8"
      }
    },
    {
      "cell_type": "markdown",
      "source": [
        "*   Split the dataset into training and testing sets"
      ],
      "metadata": {
        "id": "PazhefYGJDBs"
      }
    },
    {
      "cell_type": "code",
      "source": [
        "X_train, X_test, y_train, y_test = train_test_split(X, y, test_size=0.2, random_state=42)"
      ],
      "metadata": {
        "id": "aO1eTPnuI_im"
      },
      "execution_count": null,
      "outputs": []
    },
    {
      "cell_type": "markdown",
      "source": [
        "*  Train your linear regression model on the training set\n"
      ],
      "metadata": {
        "id": "xxSQuFiuJVhf"
      }
    },
    {
      "cell_type": "code",
      "source": [
        "theta = compute_parameters(X_train, y_train)"
      ],
      "metadata": {
        "id": "EDdgLGNmJTtj"
      },
      "execution_count": null,
      "outputs": []
    },
    {
      "cell_type": "markdown",
      "source": [
        "*   Make predictions on the training and test data"
      ],
      "metadata": {
        "id": "5e_3myQqJiHe"
      }
    },
    {
      "cell_type": "code",
      "source": [
        "y_train_pred = predict(X_train, theta)\n",
        "y_test_pred = predict(X_test, theta)\n"
      ],
      "metadata": {
        "id": "_-cvEuBiJmYa"
      },
      "execution_count": null,
      "outputs": []
    },
    {
      "cell_type": "markdown",
      "source": [
        "*   Calculate Mean Squared Error"
      ],
      "metadata": {
        "id": "aYY1OdoUJyLn"
      }
    },
    {
      "cell_type": "code",
      "source": [
        "def mean_squared_error(y_true, y_pred):\n",
        "    return np.mean((y_true - y_pred) ** 2)\n",
        "\n",
        "mse_train = mean_squared_error(y_train, y_train_pred)\n",
        "mse_test = mean_squared_error(y_test, y_test_pred)"
      ],
      "metadata": {
        "id": "sVuv4WF1JzMw"
      },
      "execution_count": null,
      "outputs": []
    },
    {
      "cell_type": "markdown",
      "source": [
        "# **Output**:\n"
      ],
      "metadata": {
        "id": "ziENELX9KOVB"
      }
    },
    {
      "cell_type": "code",
      "source": [
        "print(f'MSE on training data: {mse_train}')\n",
        "print(f'MSE on test data: {mse_test}')\n",
        "print(f'Model parameters (theta): {theta}')"
      ],
      "metadata": {
        "colab": {
          "base_uri": "https://localhost:8080/"
        },
        "id": "BP0I-aLCKVNj",
        "outputId": "8afe9aca-c0c2-42c8-d1ba-56f4986e0d06"
      },
      "execution_count": null,
      "outputs": [
        {
          "output_type": "stream",
          "name": "stdout",
          "text": [
            "MSE on training data: 170277648.51955354\n",
            "MSE on test data: 167882080.37329507\n",
            "Model parameters (theta): [230827.44332799 959039.89092674  18856.32604631 -21009.99159149]\n"
          ]
        }
      ]
    },
    {
      "cell_type": "markdown",
      "source": [
        "# **Visualization**"
      ],
      "metadata": {
        "id": "vxF6VAlaKchQ"
      }
    },
    {
      "cell_type": "code",
      "source": [
        "  plt.scatter(X_test['Size (sqft)'], y_test, color='blue', label='Test data')\n",
        "  plt.scatter(X_test['Size (sqft)'], y_test_pred, color='red', label='Predictions', alpha=0.6)\n",
        "  plt.xlabel('Size (sqft)')\n",
        "  plt.ylabel('Price')\n",
        "  plt.title('House Price Predictions vs Actual Prices (Test Data)')\n",
        "  plt.legend()\n",
        "  plt.show()"
      ],
      "metadata": {
        "colab": {
          "base_uri": "https://localhost:8080/",
          "height": 472
        },
        "id": "n24tlo2UKfHa",
        "outputId": "311aa8d3-741f-4e01-f7a9-0b67058f38ca"
      },
      "execution_count": null,
      "outputs": [
        {
          "output_type": "display_data",
          "data": {
            "text/plain": [
              "<Figure size 640x480 with 1 Axes>"
            ],
            "image/png": "[encoded data removed]"
          },
          "metadata": {}
        }
      ]
    },
    {
      "cell_type": "markdown",
      "source": [],
      "metadata": {
        "id": "iicrsUUENdZb"
      }
    },
    {
      "cell_type": "markdown",
      "source": [],
      "metadata": {
        "id": "rUY8iWbAPRex"
      }
    }
  ]
}